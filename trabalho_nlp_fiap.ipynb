{
  "nbformat": 4,
  "nbformat_minor": 0,
  "metadata": {
    "colab": {
      "provenance": [],
      "gpuType": "T4",
      "include_colab_link": true
    },
    "kernelspec": {
      "name": "python3",
      "display_name": "Python 3"
    },
    "language_info": {
      "name": "python"
    },
    "accelerator": "GPU"
  },
  "cells": [
    {
      "cell_type": "markdown",
      "metadata": {
        "id": "view-in-github",
        "colab_type": "text"
      },
      "source": [
        "<a href=\"https://colab.research.google.com/github/lpoggetto/trabalho_nlp_fiap/blob/main/trabalho_nlp_fiap.ipynb\" target=\"_parent\"><img src=\"https://colab.research.google.com/assets/colab-badge.svg\" alt=\"Open In Colab\"/></a>"
      ]
    },
    {
      "cell_type": "markdown",
      "source": [
        "# **Case QuantumFinance - Disciplina NLP - Classificador de chamados**"
      ],
      "metadata": {
        "id": "wtutzdQR64GA"
      }
    },
    {
      "cell_type": "markdown",
      "source": [
        "***Participantes (RM - NOME):***<br>\n",
        "Cleber Veiga Galvão - 356846<br>\n",
        "Danildo André Amorim dos Santos - 355182<br>\n",
        "Victor Marcio Hayee Falcão - 354955<br>\n",
        "Lucas Ribeiro Del Poggetto - 355220<br>"
      ],
      "metadata": {
        "id": "UKdXDjAV63_u"
      }
    },
    {
      "cell_type": "markdown",
      "source": [
        "###**Crie um classificador de chamados aplicando técnicas de PLN**\n",
        "---\n",
        "\n",
        "A **QuantumFinance** tem um canal de atendimento via chat e precisar classificar os assuntos dos atendimentos para melhorar as tratativas dos chamados dos clientes. O canal recebe textos abertos dos clientes relatando o problema e/ou dúvida e depois é direcionado para alguma área especialista no assunto para uma melhor tratativa.​\n",
        "\n",
        "1. Crie um modelo classificador de assuntos aplicando técnicas de PLN, que consiga classificar através de um texto o assunto conforme disponível na base de dados [1] para treinamento e validação do seu modelo.​\n",
        "\n",
        "  O modelo precisar atingir um score na **métrica F1 Score superior a 75%**. Utilize o dataset [1] para treinar e testar o modelo, separe o dataset em duas amostras (75% para treinamento e 25% para teste com o randon_state igual a 42).​\n",
        "\n",
        "2. Utilizar ao menos uma aplicação de modelos de GenAI (LLM´s) para criar o modelo classificador com os mesmos critérios do item 1.\n",
        "\n",
        "Fique à vontade para testar e explorar as técnicas de pré-processamento, abordagens de NLP, algoritmos e bibliotecas, mas explique e justifique as suas decisões durante o desenvolvimento.​\n",
        "\n",
        "**Composição da nota:​**\n",
        "\n",
        "**50%** - Demonstrações das aplicações das técnicas de PLN (regras, pré-processamentos, tratamentos, variedade de modelos aplicados, aplicações de GenIA, organização do pipeline, etc.)​\n",
        "\n",
        "**50%** - Baseado na performance (score) obtida com a amostra de teste no pipeline do modelo campeão (validar com  a Métrica F1 Score). **Separar o pipeline completo do modelo campeão conforme template.​**\n",
        "\n",
        "O trabalho poderá ser feito em grupo de 2 até 4 pessoas (mesmo grupo do Startup One) e trabalhos iguais serão descontado nota e passível de reprovação.\n",
        "\n",
        "**[1] = ​https://dados-ml-pln.s3.sa-east-1.amazonaws.com/tickets_reclamacoes_classificados.csv**\n",
        "\n",
        "**[F1 Score](https://scikit-learn.org/stable/modules/generated/sklearn.metrics.f1_score.html)** com average='weighted'"
      ],
      "metadata": {
        "id": "qZNrJq4363kw"
      }
    },
    {
      "cell_type": "code",
      "source": [
        "# CARREGANDO O DATA FRAME\n",
        "import pandas as pd\n",
        "df = pd.read_csv('https://dados-ml-pln.s3.sa-east-1.amazonaws.com/tickets_reclamacoes_classificados.csv', delimiter=';')\n",
        "\n",
        "# Façam o download do arquivo e utilizem localmente durante os testes"
      ],
      "metadata": {
        "id": "iGYqhoT1NR76"
      },
      "execution_count": 1,
      "outputs": []
    },
    {
      "cell_type": "code",
      "source": [
        "df.info()"
      ],
      "metadata": {
        "id": "Z-FmDlha7UA9",
        "colab": {
          "base_uri": "https://localhost:8080/"
        },
        "outputId": "68521ebf-c9f4-4248-fd0b-97cd2513fb4d"
      },
      "execution_count": 2,
      "outputs": [
        {
          "output_type": "stream",
          "name": "stdout",
          "text": [
            "<class 'pandas.core.frame.DataFrame'>\n",
            "RangeIndex: 21072 entries, 0 to 21071\n",
            "Data columns (total 4 columns):\n",
            " #   Column                Non-Null Count  Dtype \n",
            "---  ------                --------------  ----- \n",
            " 0   id_reclamacao         21072 non-null  int64 \n",
            " 1   data_abertura         21072 non-null  object\n",
            " 2   categoria             21072 non-null  object\n",
            " 3   descricao_reclamacao  21072 non-null  object\n",
            "dtypes: int64(1), object(3)\n",
            "memory usage: 658.6+ KB\n"
          ]
        }
      ]
    },
    {
      "cell_type": "markdown",
      "source": [
        "Bom desenvolvimento!"
      ],
      "metadata": {
        "id": "FgcFaeDr7Xrr"
      }
    },
    {
      "cell_type": "markdown",
      "source": [
        "###**Area de desenvolvimento e validações**"
      ],
      "metadata": {
        "id": "EXkWJwD77eJ0"
      }
    },
    {
      "cell_type": "markdown",
      "source": [
        "Faça aqui as demonstrações das aplicações das técnicas de PLN (regras, pré-processamentos, tratamentos, variedade de modelos aplicados, organização do pipeline, etc.)​\n",
        "\n",
        "Fique à vontade para testar e explorar as técnicas de pré-processamento, abordagens de NLP, algoritmos e bibliotecas, mas explique e justifique as suas decisões durante o desenvolvimento.​"
      ],
      "metadata": {
        "id": "aGzPoD9h7fjv"
      }
    },
    {
      "cell_type": "code",
      "source": [
        "# limpando a pasta\n",
        "!rm -rf /content/*\n",
        "\n",
        "# !pip uninstall transformers -y\n",
        "# !pip uninstall torch -y\n",
        "# !pip install transformers==4.46.3\n",
        "# !pip install torch==2.5.1\n",
        "\n",
        "# !pip install sentence-transformers --quiet\n",
        "\n",
        "# Pacotes utilizados em NLP/feature engineering\n",
        "import numpy as np\n",
        "from collections import defaultdict\n",
        "from functools import lru_cache\n",
        "from concurrent.futures import ThreadPoolExecutor\n",
        "\n",
        "import spacy\n",
        "from spacy.lang.pt.stop_words import STOP_WORDS\n",
        "!python -m spacy download pt_core_news_sm\n",
        "\n",
        "import re\n",
        "from nltk.downloader import download\n",
        "from nltk.stem import RSLPStemmer\n",
        "from nltk.corpus import stopwords\n",
        "from nltk.tokenize import word_tokenize\n",
        "download('stopwords')\n",
        "\n",
        "# pacote ML\n",
        "from sklearn.model_selection import train_test_split\n",
        "from sklearn.feature_extraction.text import TfidfVectorizer\n",
        "from sklearn.preprocessing import LabelEncoder\n",
        "from sklearn.ensemble import RandomForestClassifier\n",
        "from sklearn.pipeline import Pipeline\n",
        "from sklearn.metrics import classification_report\n",
        "\n",
        "# genai\n",
        "\n",
        "import torch\n",
        "import torchvision  # Import torchvision before transformers\n",
        "# Workaround for the circular import issue\n",
        "if hasattr(torchvision, 'disable_beta_transforms_warning'):\n",
        "    torchvision.disable_beta_transforms_warning()\n",
        "\n",
        "# Now import other packages\n",
        "import pandas as pd\n",
        "from sklearn.model_selection import train_test_split\n",
        "from sklearn.metrics import classification_report\n",
        "from transformers import BertTokenizer, BertForSequenceClassification\n",
        "from torch.optim import AdamW\n",
        "from torch.utils.data import DataLoader, TensorDataset\n",
        "from tqdm import tqdm\n",
        "from sklearn import preprocessing"
      ],
      "metadata": {
        "id": "VoTQZBhP7tER",
        "outputId": "f44df7e6-8817-4fac-bae6-f8ab38cd3128",
        "colab": {
          "base_uri": "https://localhost:8080/"
        }
      },
      "execution_count": 3,
      "outputs": [
        {
          "output_type": "stream",
          "name": "stdout",
          "text": [
            "Collecting pt-core-news-sm==3.8.0\n",
            "  Downloading https://github.com/explosion/spacy-models/releases/download/pt_core_news_sm-3.8.0/pt_core_news_sm-3.8.0-py3-none-any.whl (13.0 MB)\n",
            "\u001b[2K     \u001b[90m━━━━━━━━━━━━━━━━━━━━━━━━━━━━━━━━━━━━━━━━\u001b[0m \u001b[32m13.0/13.0 MB\u001b[0m \u001b[31m75.7 MB/s\u001b[0m eta \u001b[36m0:00:00\u001b[0m\n",
            "\u001b[?25h\u001b[38;5;2m✔ Download and installation successful\u001b[0m\n",
            "You can now load the package via spacy.load('pt_core_news_sm')\n",
            "\u001b[38;5;3m⚠ Restart to reload dependencies\u001b[0m\n",
            "If you are in a Jupyter or Colab notebook, you may need to restart Python in\n",
            "order to load all the package's dependencies. You can do this by selecting the\n",
            "'Restart kernel' or 'Restart runtime' option.\n"
          ]
        },
        {
          "output_type": "stream",
          "name": "stderr",
          "text": [
            "[nltk_data] Downloading package stopwords to /root/nltk_data...\n",
            "[nltk_data]   Package stopwords is already up-to-date!\n"
          ]
        },
        {
          "output_type": "stream",
          "name": "stdout",
          "text": [
            "4.50.0\n",
            "2.6.0+cu124\n",
            "1.6.1\n"
          ]
        }
      ]
    },
    {
      "cell_type": "code",
      "source": [
        "df.shape"
      ],
      "metadata": {
        "colab": {
          "base_uri": "https://localhost:8080/"
        },
        "id": "1e6qcANvOcJn",
        "outputId": "8ca1d3d2-eb2f-4252-8fa0-291263534862"
      },
      "execution_count": 4,
      "outputs": [
        {
          "output_type": "execute_result",
          "data": {
            "text/plain": [
              "(21072, 4)"
            ]
          },
          "metadata": {},
          "execution_count": 4
        }
      ]
    },
    {
      "cell_type": "code",
      "source": [
        "df.head()"
      ],
      "metadata": {
        "colab": {
          "base_uri": "https://localhost:8080/",
          "height": 206
        },
        "id": "Mm4euCa-Nf9V",
        "outputId": "c0b5bc72-2081-4d65-dcab-99d978e8b57e"
      },
      "execution_count": 5,
      "outputs": [
        {
          "output_type": "execute_result",
          "data": {
            "text/plain": [
              "   id_reclamacao              data_abertura  \\\n",
              "0        3229299  2019-05-01T12:00:00-05:00   \n",
              "1        3199379  2019-04-02T12:00:00-05:00   \n",
              "2        3233499  2019-05-06T12:00:00-05:00   \n",
              "3        3180294  2019-03-14T12:00:00-05:00   \n",
              "4        3224980  2019-04-27T12:00:00-05:00   \n",
              "\n",
              "                             categoria  \\\n",
              "0              Hipotecas / Empréstimos   \n",
              "1  Cartão de crédito / Cartão pré-pago   \n",
              "2  Cartão de crédito / Cartão pré-pago   \n",
              "3  Cartão de crédito / Cartão pré-pago   \n",
              "4           Serviços de conta bancária   \n",
              "\n",
              "                                descricao_reclamacao  \n",
              "0  Bom dia, meu nome é xxxx xxxx e agradeço se vo...  \n",
              "1  Atualizei meu cartão xxxx xxxx em xx/xx/2018 e...  \n",
              "2  O cartão Chase foi relatado em xx/xx/2019. No ...  \n",
              "3  Em xx/xx/2018, enquanto tentava reservar um ti...  \n",
              "4  Meu neto me dê cheque por {$ 1600,00} Eu depos...  "
            ],
            "text/html": [
              "\n",
              "  <div id=\"df-ca24318f-2d78-4e68-9293-55223654f412\" class=\"colab-df-container\">\n",
              "    <div>\n",
              "<style scoped>\n",
              "    .dataframe tbody tr th:only-of-type {\n",
              "        vertical-align: middle;\n",
              "    }\n",
              "\n",
              "    .dataframe tbody tr th {\n",
              "        vertical-align: top;\n",
              "    }\n",
              "\n",
              "    .dataframe thead th {\n",
              "        text-align: right;\n",
              "    }\n",
              "</style>\n",
              "<table border=\"1\" class=\"dataframe\">\n",
              "  <thead>\n",
              "    <tr style=\"text-align: right;\">\n",
              "      <th></th>\n",
              "      <th>id_reclamacao</th>\n",
              "      <th>data_abertura</th>\n",
              "      <th>categoria</th>\n",
              "      <th>descricao_reclamacao</th>\n",
              "    </tr>\n",
              "  </thead>\n",
              "  <tbody>\n",
              "    <tr>\n",
              "      <th>0</th>\n",
              "      <td>3229299</td>\n",
              "      <td>2019-05-01T12:00:00-05:00</td>\n",
              "      <td>Hipotecas / Empréstimos</td>\n",
              "      <td>Bom dia, meu nome é xxxx xxxx e agradeço se vo...</td>\n",
              "    </tr>\n",
              "    <tr>\n",
              "      <th>1</th>\n",
              "      <td>3199379</td>\n",
              "      <td>2019-04-02T12:00:00-05:00</td>\n",
              "      <td>Cartão de crédito / Cartão pré-pago</td>\n",
              "      <td>Atualizei meu cartão xxxx xxxx em xx/xx/2018 e...</td>\n",
              "    </tr>\n",
              "    <tr>\n",
              "      <th>2</th>\n",
              "      <td>3233499</td>\n",
              "      <td>2019-05-06T12:00:00-05:00</td>\n",
              "      <td>Cartão de crédito / Cartão pré-pago</td>\n",
              "      <td>O cartão Chase foi relatado em xx/xx/2019. No ...</td>\n",
              "    </tr>\n",
              "    <tr>\n",
              "      <th>3</th>\n",
              "      <td>3180294</td>\n",
              "      <td>2019-03-14T12:00:00-05:00</td>\n",
              "      <td>Cartão de crédito / Cartão pré-pago</td>\n",
              "      <td>Em xx/xx/2018, enquanto tentava reservar um ti...</td>\n",
              "    </tr>\n",
              "    <tr>\n",
              "      <th>4</th>\n",
              "      <td>3224980</td>\n",
              "      <td>2019-04-27T12:00:00-05:00</td>\n",
              "      <td>Serviços de conta bancária</td>\n",
              "      <td>Meu neto me dê cheque por {$ 1600,00} Eu depos...</td>\n",
              "    </tr>\n",
              "  </tbody>\n",
              "</table>\n",
              "</div>\n",
              "    <div class=\"colab-df-buttons\">\n",
              "\n",
              "  <div class=\"colab-df-container\">\n",
              "    <button class=\"colab-df-convert\" onclick=\"convertToInteractive('df-ca24318f-2d78-4e68-9293-55223654f412')\"\n",
              "            title=\"Convert this dataframe to an interactive table.\"\n",
              "            style=\"display:none;\">\n",
              "\n",
              "  <svg xmlns=\"http://www.w3.org/2000/svg\" height=\"24px\" viewBox=\"0 -960 960 960\">\n",
              "    <path d=\"M120-120v-720h720v720H120Zm60-500h600v-160H180v160Zm220 220h160v-160H400v160Zm0 220h160v-160H400v160ZM180-400h160v-160H180v160Zm440 0h160v-160H620v160ZM180-180h160v-160H180v160Zm440 0h160v-160H620v160Z\"/>\n",
              "  </svg>\n",
              "    </button>\n",
              "\n",
              "  <style>\n",
              "    .colab-df-container {\n",
              "      display:flex;\n",
              "      gap: 12px;\n",
              "    }\n",
              "\n",
              "    .colab-df-convert {\n",
              "      background-color: #E8F0FE;\n",
              "      border: none;\n",
              "      border-radius: 50%;\n",
              "      cursor: pointer;\n",
              "      display: none;\n",
              "      fill: #1967D2;\n",
              "      height: 32px;\n",
              "      padding: 0 0 0 0;\n",
              "      width: 32px;\n",
              "    }\n",
              "\n",
              "    .colab-df-convert:hover {\n",
              "      background-color: #E2EBFA;\n",
              "      box-shadow: 0px 1px 2px rgba(60, 64, 67, 0.3), 0px 1px 3px 1px rgba(60, 64, 67, 0.15);\n",
              "      fill: #174EA6;\n",
              "    }\n",
              "\n",
              "    .colab-df-buttons div {\n",
              "      margin-bottom: 4px;\n",
              "    }\n",
              "\n",
              "    [theme=dark] .colab-df-convert {\n",
              "      background-color: #3B4455;\n",
              "      fill: #D2E3FC;\n",
              "    }\n",
              "\n",
              "    [theme=dark] .colab-df-convert:hover {\n",
              "      background-color: #434B5C;\n",
              "      box-shadow: 0px 1px 3px 1px rgba(0, 0, 0, 0.15);\n",
              "      filter: drop-shadow(0px 1px 2px rgba(0, 0, 0, 0.3));\n",
              "      fill: #FFFFFF;\n",
              "    }\n",
              "  </style>\n",
              "\n",
              "    <script>\n",
              "      const buttonEl =\n",
              "        document.querySelector('#df-ca24318f-2d78-4e68-9293-55223654f412 button.colab-df-convert');\n",
              "      buttonEl.style.display =\n",
              "        google.colab.kernel.accessAllowed ? 'block' : 'none';\n",
              "\n",
              "      async function convertToInteractive(key) {\n",
              "        const element = document.querySelector('#df-ca24318f-2d78-4e68-9293-55223654f412');\n",
              "        const dataTable =\n",
              "          await google.colab.kernel.invokeFunction('convertToInteractive',\n",
              "                                                    [key], {});\n",
              "        if (!dataTable) return;\n",
              "\n",
              "        const docLinkHtml = 'Like what you see? Visit the ' +\n",
              "          '<a target=\"_blank\" href=https://colab.research.google.com/notebooks/data_table.ipynb>data table notebook</a>'\n",
              "          + ' to learn more about interactive tables.';\n",
              "        element.innerHTML = '';\n",
              "        dataTable['output_type'] = 'display_data';\n",
              "        await google.colab.output.renderOutput(dataTable, element);\n",
              "        const docLink = document.createElement('div');\n",
              "        docLink.innerHTML = docLinkHtml;\n",
              "        element.appendChild(docLink);\n",
              "      }\n",
              "    </script>\n",
              "  </div>\n",
              "\n",
              "\n",
              "<div id=\"df-347348fb-02cb-40f5-b7c5-ae6b431210f8\">\n",
              "  <button class=\"colab-df-quickchart\" onclick=\"quickchart('df-347348fb-02cb-40f5-b7c5-ae6b431210f8')\"\n",
              "            title=\"Suggest charts\"\n",
              "            style=\"display:none;\">\n",
              "\n",
              "<svg xmlns=\"http://www.w3.org/2000/svg\" height=\"24px\"viewBox=\"0 0 24 24\"\n",
              "     width=\"24px\">\n",
              "    <g>\n",
              "        <path d=\"M19 3H5c-1.1 0-2 .9-2 2v14c0 1.1.9 2 2 2h14c1.1 0 2-.9 2-2V5c0-1.1-.9-2-2-2zM9 17H7v-7h2v7zm4 0h-2V7h2v10zm4 0h-2v-4h2v4z\"/>\n",
              "    </g>\n",
              "</svg>\n",
              "  </button>\n",
              "\n",
              "<style>\n",
              "  .colab-df-quickchart {\n",
              "      --bg-color: #E8F0FE;\n",
              "      --fill-color: #1967D2;\n",
              "      --hover-bg-color: #E2EBFA;\n",
              "      --hover-fill-color: #174EA6;\n",
              "      --disabled-fill-color: #AAA;\n",
              "      --disabled-bg-color: #DDD;\n",
              "  }\n",
              "\n",
              "  [theme=dark] .colab-df-quickchart {\n",
              "      --bg-color: #3B4455;\n",
              "      --fill-color: #D2E3FC;\n",
              "      --hover-bg-color: #434B5C;\n",
              "      --hover-fill-color: #FFFFFF;\n",
              "      --disabled-bg-color: #3B4455;\n",
              "      --disabled-fill-color: #666;\n",
              "  }\n",
              "\n",
              "  .colab-df-quickchart {\n",
              "    background-color: var(--bg-color);\n",
              "    border: none;\n",
              "    border-radius: 50%;\n",
              "    cursor: pointer;\n",
              "    display: none;\n",
              "    fill: var(--fill-color);\n",
              "    height: 32px;\n",
              "    padding: 0;\n",
              "    width: 32px;\n",
              "  }\n",
              "\n",
              "  .colab-df-quickchart:hover {\n",
              "    background-color: var(--hover-bg-color);\n",
              "    box-shadow: 0 1px 2px rgba(60, 64, 67, 0.3), 0 1px 3px 1px rgba(60, 64, 67, 0.15);\n",
              "    fill: var(--button-hover-fill-color);\n",
              "  }\n",
              "\n",
              "  .colab-df-quickchart-complete:disabled,\n",
              "  .colab-df-quickchart-complete:disabled:hover {\n",
              "    background-color: var(--disabled-bg-color);\n",
              "    fill: var(--disabled-fill-color);\n",
              "    box-shadow: none;\n",
              "  }\n",
              "\n",
              "  .colab-df-spinner {\n",
              "    border: 2px solid var(--fill-color);\n",
              "    border-color: transparent;\n",
              "    border-bottom-color: var(--fill-color);\n",
              "    animation:\n",
              "      spin 1s steps(1) infinite;\n",
              "  }\n",
              "\n",
              "  @keyframes spin {\n",
              "    0% {\n",
              "      border-color: transparent;\n",
              "      border-bottom-color: var(--fill-color);\n",
              "      border-left-color: var(--fill-color);\n",
              "    }\n",
              "    20% {\n",
              "      border-color: transparent;\n",
              "      border-left-color: var(--fill-color);\n",
              "      border-top-color: var(--fill-color);\n",
              "    }\n",
              "    30% {\n",
              "      border-color: transparent;\n",
              "      border-left-color: var(--fill-color);\n",
              "      border-top-color: var(--fill-color);\n",
              "      border-right-color: var(--fill-color);\n",
              "    }\n",
              "    40% {\n",
              "      border-color: transparent;\n",
              "      border-right-color: var(--fill-color);\n",
              "      border-top-color: var(--fill-color);\n",
              "    }\n",
              "    60% {\n",
              "      border-color: transparent;\n",
              "      border-right-color: var(--fill-color);\n",
              "    }\n",
              "    80% {\n",
              "      border-color: transparent;\n",
              "      border-right-color: var(--fill-color);\n",
              "      border-bottom-color: var(--fill-color);\n",
              "    }\n",
              "    90% {\n",
              "      border-color: transparent;\n",
              "      border-bottom-color: var(--fill-color);\n",
              "    }\n",
              "  }\n",
              "</style>\n",
              "\n",
              "  <script>\n",
              "    async function quickchart(key) {\n",
              "      const quickchartButtonEl =\n",
              "        document.querySelector('#' + key + ' button');\n",
              "      quickchartButtonEl.disabled = true;  // To prevent multiple clicks.\n",
              "      quickchartButtonEl.classList.add('colab-df-spinner');\n",
              "      try {\n",
              "        const charts = await google.colab.kernel.invokeFunction(\n",
              "            'suggestCharts', [key], {});\n",
              "      } catch (error) {\n",
              "        console.error('Error during call to suggestCharts:', error);\n",
              "      }\n",
              "      quickchartButtonEl.classList.remove('colab-df-spinner');\n",
              "      quickchartButtonEl.classList.add('colab-df-quickchart-complete');\n",
              "    }\n",
              "    (() => {\n",
              "      let quickchartButtonEl =\n",
              "        document.querySelector('#df-347348fb-02cb-40f5-b7c5-ae6b431210f8 button');\n",
              "      quickchartButtonEl.style.display =\n",
              "        google.colab.kernel.accessAllowed ? 'block' : 'none';\n",
              "    })();\n",
              "  </script>\n",
              "</div>\n",
              "\n",
              "    </div>\n",
              "  </div>\n"
            ],
            "application/vnd.google.colaboratory.intrinsic+json": {
              "type": "dataframe",
              "variable_name": "df",
              "summary": "{\n  \"name\": \"df\",\n  \"rows\": 21072,\n  \"fields\": [\n    {\n      \"column\": \"id_reclamacao\",\n      \"properties\": {\n        \"dtype\": \"number\",\n        \"std\": 770932,\n        \"min\": 1290253,\n        \"max\": 4213007,\n        \"num_unique_values\": 21072,\n        \"samples\": [\n          2505290,\n          3625355,\n          1405636\n        ],\n        \"semantic_type\": \"\",\n        \"description\": \"\"\n      }\n    },\n    {\n      \"column\": \"data_abertura\",\n      \"properties\": {\n        \"dtype\": \"object\",\n        \"num_unique_values\": 2182,\n        \"samples\": [\n          \"2015-08-31T12:00:00-05:00\",\n          \"2017-09-12T12:00:00-05:00\",\n          \"2020-01-21T12:00:00-05:00\"\n        ],\n        \"semantic_type\": \"\",\n        \"description\": \"\"\n      }\n    },\n    {\n      \"column\": \"categoria\",\n      \"properties\": {\n        \"dtype\": \"category\",\n        \"num_unique_values\": 5,\n        \"samples\": [\n          \"Cart\\u00e3o de cr\\u00e9dito / Cart\\u00e3o pr\\u00e9-pago\",\n          \"Roubo / Relat\\u00f3rio de disputa\",\n          \"Servi\\u00e7os de conta banc\\u00e1ria\"\n        ],\n        \"semantic_type\": \"\",\n        \"description\": \"\"\n      }\n    },\n    {\n      \"column\": \"descricao_reclamacao\",\n      \"properties\": {\n        \"dtype\": \"string\",\n        \"num_unique_values\": 20903,\n        \"samples\": [\n          \"Em xxxx e xx/xx/xxxx, algu\\u00e9m havia tirado meu cart\\u00e3o da minha carteira enquanto eu estava em um hospital e subia meu cart\\u00e3o. Essa pessoa, xxxx xxxx xxxx, me convenceu a dar a ela minha procura\\u00e7\\u00e3o m\\u00e9dica apenas mais tarde para descobrir que era de fato uma procura\\u00e7\\u00e3o dur\\u00e1vel. Ela aumenta {$ 10000,00} d\\u00f3lares, que inclu\\u00edram alguns avan\\u00e7os em dinheiro. Assim que tomei conhecimento disso, entrei em contato com o Chase Bank. Eles inicialmente creditaram tudo de volta para mim. Em seguida, arquivei um relat\\u00f3rio policial no Departamento de Pol\\u00edcia XXXX do Arizona, caso # XXXX. Eles come\\u00e7aram a falar com a Sra. XXXX, que alimentou uma s\\u00e9rie de mentiras. Ela ent\\u00e3o lhes deu c\\u00f3pias dos advogados. Ent\\u00e3o Chase voltou e colocou todas essas acusa\\u00e7\\u00f5es de volta no meu cart\\u00e3o e disse por causa dos POA, eu fui respons\\u00e1vel pelas acusa\\u00e7\\u00f5es. Nesse momento, entrei em contato com meu advogado xxxx xxxx de xxxx xxxx xxxx. Enviamos uma peti\\u00e7\\u00e3o para anular os poderes de advogado devido \\u00e0 falta de capacidade do diretor. Em xx/xx/xxxx, ap\\u00f3s mais de um ano de batalha, o juiz emitiu uma ordem anulada de lado os poderes porque o principal n\\u00e3o tinha capacidade. No par\\u00e1grafo d, a p\\u00e1gina 2 afirma que i xxxx xxxx n\\u00e3o autorizou xxxx xxxx xxxx como um agente na minha conta banc\\u00e1ria Chase e a autoriza\\u00e7\\u00e3o \\u00e9 nula. Em seguida, entrei em contato com Chase, enviei o documento do tribunal e esperei at\\u00e9 saber que eles o haviam recebido. Quando liguei para Chase, o representante no departamento de fraude discutiu comigo que o POA era v\\u00e1lido, portanto, eles n\\u00e3o podiam aceit\\u00e1 -lo. Eu at\\u00e9 expliquei que todos os meus outros bancos e meus propriet\\u00e1rios de casas o aceitaram. Eles recusaram. Por isso, voltamos aos tribunais e, em XX/XX/XXXX, o par\\u00e1grafo d P\\u00e1gina 2 foi alterado para ler \\\"xxxx xxxx n\\u00e3o autorizou xxxx xxxx xxxx como agente em suas contas banc\\u00e1rias Chase e a autoriza\\u00e7\\u00e3o \\u00e9 inv\\u00e1lida e nula de todas as tempos devido \\u00e0 falta de capacidade dos peticion\\u00e1rios. Enviei essas informa\\u00e7\\u00f5es a um XXXX XXXX XXXX no Chase, que me aconselhou que ele era o supervisor do departamento de fraude. Ent\\u00e3o esperei algumas semanas para permitir que eles fizessem algumas pesquisas. ligou de volta e foi dito mais uma vez que os poderes de advogado eram v\\u00e1lidos no momento em que foram assinados para que n\\u00e3o me reembolsem de volta o que paguei e que ainda sou respons\\u00e1vel pelo saldo restante. Na semana passada, sob o conselho de Conselheiro jur\\u00eddico, enviei um e -mail ao CEO do Chase Bank. N\\u00e3o estou pedindo muito, apenas para ser reembolsado o que \\u00e9 devido a mim. E para que os funcion\\u00e1rios sejam treinados para que, quando houver um POA e seja governado nulo e vazio porque a pessoa foi considerada incapacitada, isso significa que elas eram n OT na mente certa para assinar qualquer documenta\\u00e7\\u00e3o legal. Estou lutando com isso h\\u00e1 2 anos e quero que isso seja resolvido da maneira que deve ser feita. Como afirmado anteriormente, meus outros bancos e meus seguros de propriet\\u00e1rios homenagearam os documentos judiciais legais sem qualquer d\\u00favida ou hesita\\u00e7\\u00e3o. Chase \\u00e9 o \\u00fanico banco que est\\u00e1 se recusando repetidamente a fazer a coisa certa. Al\\u00e9m disso, na semana passada, veio \\u00e0 tona que a Sra. XXXX teve 20 acusa\\u00e7\\u00f5es criminais trazidas contra ela em xxxx por fraude e planejamento para obter dinheiro do estado do Arizona e \\u00e9 um pouco estranho descobrir que um funcion\\u00e1rio da Chase em uma filial local foi agendado Para testemunhar como testemunha de personagem por ela. Isso me parece que ela trabalha com algu\\u00e9m na Chase h\\u00e1 anos e sabia exatamente o que fazer para tirar vantagem de mim durante um tempo muito vulner\\u00e1vel na minha vida.\",\n          \"O n\\u00famero da conta do empr\\u00e9stimo do Chase Auto XXX tinha um saldo listado de {$ 930,00} a partir de xx/xx/xxxx em um empr\\u00e9stimo que amadureceu o Onxx/XX/XXXX, que deveria ter sido o \\u00faltimo pagamento. As cota\\u00e7\\u00f5es de pagamento declaradas projetaram pagamentos de {$ 1200,00} se o pagamento foi feito em xx/xx/xxxx, e uma recompensa separada de {$ 1200.00} se paga em xx/xx/xxxx <p/> o empr\\u00e9stimo foi criado na concession\\u00e1ria com a Um pagamento mensal {$ 320,00}, mas uma amortiza\\u00e7\\u00e3o calculada mostra o pagamento de {$ 320,00} por m\\u00eas. Foi feita uma solicita\\u00e7\\u00e3o para perseguir o Auto Finance em 6 ocasi\\u00f5es diferentes para obter uma c\\u00f3pia de um cronograma oficial de amortiza\\u00e7\\u00e3o para confirmar os c\\u00e1lculos da aloca\\u00e7\\u00e3o de pagamento e juros durante a vida \\u00fatil do empr\\u00e9stimo. Cada c\\u00f3pia recebida tinha {$ 0,00} em cada linha e coluna para o principal, juros e saldo.\\r\\n<P/>\\r\\nEntrei em contato com o Chase para resolver o equil\\u00edbrio contingente de um cronograma de amortiza\\u00e7\\u00e3o. Desde ent\\u00e3o, eles enviaram o saldo da conta a uma ag\\u00eancia de cobran\\u00e7a que tentou liquidar o saldo, mas n\\u00e3o querendo corrigir os 3 Lates no meu relat\\u00f3rio de cr\\u00e9dito. Eu acredito que \\u00e9 a responsabilidade de Chase validar a d\\u00edvida que eles dizem que devo. Fiz todos os 60 pagamentos no meu empr\\u00e9stimo e n\\u00e3o devo ter um saldo pendente de mais de {$ 900,00}. O hist\\u00f3rico de pagamentos mostrar\\u00e1 que, mesmo em pagamentos posteriores, paguei mais do que o m\\u00ednimo e os pagamentos que estavam dentro do prazo.\",\n          \"O Sr. XXXX em XXXX abriu uma conta no JP Morgan Stanly Chase Bank (Chase) com o objetivo de receber dep\\u00f3sito direto atrav\\u00e9s de um ex -empregador XXXX XXXX localizado em XXXX XXXX XXXX XXXX XXXX, Oklahoma xxxx. \\u00c9 indiscut\\u00edvel que, neste per\\u00edodo (Chase), tivesse uma institui\\u00e7\\u00e3o financeira localizada em XXXX e XXXX, onde \\u00e9 o MRXXXX XXXX abriu uma conta banc\\u00e1ria. No entanto, o Sr. XXXX em torno do final do XXXX visitou o Banco Chase Localizado no XXXX XXX XXXX, XXXX, XXXX XXXX para abrir uma conta banc\\u00e1ria e perguntar sobre produtos, ou seja, cart\\u00f5es de cr\\u00e9dito garantidos. No entanto, Chase se recusou a permitir que o Sr. XXXX abra uma conta atribu\\u00edda a atividades suspeitas da XXXX. Posteriormente, atribu\\u00eddo ao manuseio da informa\\u00e7\\u00e3o da conta de email xxxx xxxx xxxx, o Sr. XXXX, foi Spear Phish, levando \\u00e0 apropria\\u00e7\\u00e3o indevida e viola\\u00e7\\u00e3o dos direitos de privacidade. Al\\u00e9m disso, devido ao manuseio da informa\\u00e7\\u00e3o, o Sr. XXXX foi planejado, resultando em um instrumento forjado sendo descontado inconscientemente. Consequentemente, depois de perceber a provoca\\u00e7\\u00e3o que estava ocorrendo nos bastidores, o Sr. XXXX apresentou um congelamento de seguran\\u00e7a atrav\\u00e9s do XXXX XXXX, dada a a\\u00e7\\u00e3o adversa tomada contra o Sr. XXXX como resultado de fraude. Posteriormente, depois de colocar um congelamento de seguran\\u00e7a atribu\\u00eddo ao roubo de identidade, o Chase Bank enviou a comunica\\u00e7\\u00e3o que oferecem ferramentas de monitoramento de identidade gratuitas do Sr. XXXX, mesmo que nenhuma acusa\\u00e7\\u00e3o tenha sido alegado contra a institui\\u00e7\\u00e3o financeira. Al\\u00e9m disso, a institui\\u00e7\\u00e3o financeira mencionou os motivos associados a reclama\\u00e7\\u00f5es apresentadas contra o XXXX XXXX XXXX, que resultou em phishing Spear. Al\\u00e9m disso, acredita -se que o Chase Bank e o xxxx xxxx xxxx conspirem contra o Sr. XXXX para negar a ele a oportunidade de estabelecer o valor do cr\\u00e9dito. Al\\u00e9m disso, Chase se recusou a permitir que o Sr. XXXX o direito de utilizar seu servi\\u00e7o mesmo depois que o Sr. XXXX tentou trazer a conta em boa posi\\u00e7\\u00e3o. Chase, apesar da atividade suspeita arquivada para fornecer ao consumidor um motivo por escrito sob a (FCRA) sobre sua decis\\u00e3o de permitir que o Sr. XXXX utilize seu produto. Al\\u00e9m disso, a determina\\u00e7\\u00e3o da institui\\u00e7\\u00e3o financeira para negar o acesso ao servi\\u00e7o banc\\u00e1rio foi desaprovar o acesso ao Sr. XXXX a ferramentas de constru\\u00e7\\u00e3o de cr\\u00e9dito, dada a mudan\\u00e7a de pol\\u00edtica que enfatiza o acesso a ferramentas de cr\\u00e9dito agora \\u00e9 baseado no consumidor que possui uma conta banc\\u00e1ria. Como o consumidor n\\u00e3o pode acessar longos uma conta com a institui\\u00e7\\u00e3o financeira, certas ferramentas de cr\\u00e9dito n\\u00e3o podem mais ser acessadas. Como XXXX XXXX, uma vez ignorante da institui\\u00e7\\u00e3o financeira, \\u00e9 uma farsa que XXXX-XXXX pode utilizar esses bancos para armazenar seu dinheiro para a utiliza\\u00e7\\u00e3o de fundos nos bancos caprichosos, apenas para ter esses fundos dispon\\u00edveis para outros de uma classifica\\u00e7\\u00e3o diferente para Empregue \\u00e0 sua disposi\\u00e7\\u00e3o, enquanto outro indiv\\u00edduo sem instru\\u00e7\\u00e3o ou n\\u00e3o tem conhecimento das oportunidades que essas ferramentas criam. Al\\u00e9m disso, o verdadeiro predador e criminosos subterf\\u00fage o processo de certos indiv\\u00edduos clandestinamente em posse de informa\\u00e7\\u00f5es privadas. Acredita -se que o Chase Bank seja parcialmente respons\\u00e1vel pelo phishing Spear, que levou \\u00e0 circunst\\u00e2ncia infeliz do Sr. XXXX. No entanto, o Chase Bank possu\\u00eda o poder de registrar acusa\\u00e7\\u00f5es criminais por fraude deposit\\u00e1ria, mas apresentou a busca dessas op\\u00e7\\u00f5es, mas, em vez disso, afiliados de persegui\\u00e7\\u00e3o sendo mantidos em um padr\\u00e3o mais alto usado de identificar roubo para desqualificar o Sr. XXXX. \\u00c9 evidente como essas institui\\u00e7\\u00f5es foram estabelecidas em mais de quatrocentos anos de compensa\\u00e7\\u00e3o, portanto, se o banco estiver preocupado com qualquer coisa que ocorrer, o assunto deveria ter sido lidar com jurisdi\\u00e7\\u00e3o, em vez de ser sutilada. \\u00c9 evidente que essas institui\\u00e7\\u00f5es negam xxxx xxxx as mesmas igualidades que desfrutam. Se a institui\\u00e7\\u00e3o estiver mantendo registros, as repara\\u00e7\\u00f5es de 400 anos de trabalho for\\u00e7ado devem ser exigidas. \\u00c9 muito incr\\u00e9dulo que as pessoas que trabalham nessas institui\\u00e7\\u00f5es ou at\\u00e9 oficiais de alto n\\u00edvel se apropriem de informa\\u00e7\\u00f5es e processem a porta fechada para negar as pessoas de uma certa ra\\u00e7a uma oportunidade de se redimir. De fato, o pr\\u00f3prio fundamento deste pa\\u00eds foi constru\\u00eddo com um XXXX de miseric\\u00f3rdia, por\\u00e9m, pelo amor \\u00e0 vingan\\u00e7a do dinheiro, \\u00e9 exigido sem justificar. Em conclus\\u00e3o, a reputa\\u00e7\\u00e3o Mrxxxx XXXX foi diminu\\u00edda e negou as mesmas igualidades que outras. Acredita -se que essas a\\u00e7\\u00f5es foram tomadas por causa de ra\\u00e7a, cor e religi\\u00e3o [sic] sofreram les\\u00f5es graves por causa das a\\u00e7\\u00f5es de Chase. Obrigada\"\n        ],\n        \"semantic_type\": \"\",\n        \"description\": \"\"\n      }\n    }\n  ]\n}"
            }
          },
          "metadata": {},
          "execution_count": 5
        }
      ]
    },
    {
      "cell_type": "code",
      "source": [
        "df['categoria'].value_counts()"
      ],
      "metadata": {
        "colab": {
          "base_uri": "https://localhost:8080/",
          "height": 272
        },
        "id": "ru6Atr1tOXlj",
        "outputId": "f1c3d157-d506-401e-bdcf-437dffdbbdb0"
      },
      "execution_count": 6,
      "outputs": [
        {
          "output_type": "execute_result",
          "data": {
            "text/plain": [
              "categoria\n",
              "Serviços de conta bancária             5161\n",
              "Cartão de crédito / Cartão pré-pago    5006\n",
              "Roubo / Relatório de disputa           4822\n",
              "Hipotecas / Empréstimos                3850\n",
              "Outros                                 2233\n",
              "Name: count, dtype: int64"
            ],
            "text/html": [
              "<div>\n",
              "<style scoped>\n",
              "    .dataframe tbody tr th:only-of-type {\n",
              "        vertical-align: middle;\n",
              "    }\n",
              "\n",
              "    .dataframe tbody tr th {\n",
              "        vertical-align: top;\n",
              "    }\n",
              "\n",
              "    .dataframe thead th {\n",
              "        text-align: right;\n",
              "    }\n",
              "</style>\n",
              "<table border=\"1\" class=\"dataframe\">\n",
              "  <thead>\n",
              "    <tr style=\"text-align: right;\">\n",
              "      <th></th>\n",
              "      <th>count</th>\n",
              "    </tr>\n",
              "    <tr>\n",
              "      <th>categoria</th>\n",
              "      <th></th>\n",
              "    </tr>\n",
              "  </thead>\n",
              "  <tbody>\n",
              "    <tr>\n",
              "      <th>Serviços de conta bancária</th>\n",
              "      <td>5161</td>\n",
              "    </tr>\n",
              "    <tr>\n",
              "      <th>Cartão de crédito / Cartão pré-pago</th>\n",
              "      <td>5006</td>\n",
              "    </tr>\n",
              "    <tr>\n",
              "      <th>Roubo / Relatório de disputa</th>\n",
              "      <td>4822</td>\n",
              "    </tr>\n",
              "    <tr>\n",
              "      <th>Hipotecas / Empréstimos</th>\n",
              "      <td>3850</td>\n",
              "    </tr>\n",
              "    <tr>\n",
              "      <th>Outros</th>\n",
              "      <td>2233</td>\n",
              "    </tr>\n",
              "  </tbody>\n",
              "</table>\n",
              "</div><br><label><b>dtype:</b> int64</label>"
            ]
          },
          "metadata": {},
          "execution_count": 6
        }
      ]
    },
    {
      "cell_type": "code",
      "source": [
        "df.isnull().sum()"
      ],
      "metadata": {
        "colab": {
          "base_uri": "https://localhost:8080/",
          "height": 209
        },
        "id": "bQXBawdiOgk9",
        "outputId": "0f56ff4a-f31f-4c2f-971d-6efc12cadd84"
      },
      "execution_count": 7,
      "outputs": [
        {
          "output_type": "execute_result",
          "data": {
            "text/plain": [
              "id_reclamacao           0\n",
              "data_abertura           0\n",
              "categoria               0\n",
              "descricao_reclamacao    0\n",
              "dtype: int64"
            ],
            "text/html": [
              "<div>\n",
              "<style scoped>\n",
              "    .dataframe tbody tr th:only-of-type {\n",
              "        vertical-align: middle;\n",
              "    }\n",
              "\n",
              "    .dataframe tbody tr th {\n",
              "        vertical-align: top;\n",
              "    }\n",
              "\n",
              "    .dataframe thead th {\n",
              "        text-align: right;\n",
              "    }\n",
              "</style>\n",
              "<table border=\"1\" class=\"dataframe\">\n",
              "  <thead>\n",
              "    <tr style=\"text-align: right;\">\n",
              "      <th></th>\n",
              "      <th>0</th>\n",
              "    </tr>\n",
              "  </thead>\n",
              "  <tbody>\n",
              "    <tr>\n",
              "      <th>id_reclamacao</th>\n",
              "      <td>0</td>\n",
              "    </tr>\n",
              "    <tr>\n",
              "      <th>data_abertura</th>\n",
              "      <td>0</td>\n",
              "    </tr>\n",
              "    <tr>\n",
              "      <th>categoria</th>\n",
              "      <td>0</td>\n",
              "    </tr>\n",
              "    <tr>\n",
              "      <th>descricao_reclamacao</th>\n",
              "      <td>0</td>\n",
              "    </tr>\n",
              "  </tbody>\n",
              "</table>\n",
              "</div><br><label><b>dtype:</b> int64</label>"
            ]
          },
          "metadata": {},
          "execution_count": 7
        }
      ]
    },
    {
      "cell_type": "markdown",
      "source": [
        "### Criando funções para limpeza/normalização dos dados\n"
      ],
      "metadata": {
        "id": "VDvPNnN4hKe3"
      }
    },
    {
      "cell_type": "code",
      "source": [
        "# inicializar o spacy\n",
        "nlp = spacy.load(\"pt_core_news_sm\")\n",
        "\n",
        "# padroes regex manipulacao dos dados\n",
        "URL_PATTERN = re.compile(r'http\\S+|www\\S+|https\\S+', flags=re.MULTILINE)\n",
        "SPECIAL_CHARS_PATTERN = re.compile(r'[^\\w\\s]')\n",
        "NUMBERS_PATTERN = re.compile(r'\\d+')\n",
        "DATES_PATTERN = re.compile(r'\\d{2}/\\d{2}/\\d{4}')\n",
        "WHITESPACE_PATTERN = re.compile(r'\\s+')\n",
        "\n",
        "# operacoes regex\n",
        "def combined_regex(texto):\n",
        "    texto = SPECIAL_CHARS_PATTERN.sub('', texto)\n",
        "    texto = NUMBERS_PATTERN.sub('[NUMERO]', texto)\n",
        "    texto = URL_PATTERN.sub('', texto)\n",
        "    texto = DATES_PATTERN.sub('[DATA]', texto)\n",
        "    texto = WHITESPACE_PATTERN.sub(' ', texto).strip()\n",
        "    texto = texto.lower()\n",
        "    return texto\n",
        "\n",
        "# convertendo stopwords para um frozenset - maior velocidade\n",
        "STOPWORDS_PT = frozenset(STOP_WORDS)\n",
        "\n",
        "# remocao de stopwords\n",
        "def remove_stopwords(texto):\n",
        "    return \" \".join(word for word in texto.split() if word not in STOPWORDS_PT)\n",
        "\n",
        "def lemmatize_text(df, text_column='texto', output_column='text_lemma'):\n",
        "    # Initialize empty list for lemmatized texts\n",
        "    lemma_text_list = []\n",
        "\n",
        "    # Only enable the lemmatizer in the pipeline\n",
        "    with nlp.select_pipes(disable=[\"parser\", \"ner\"]):\n",
        "        # Process texts in batches for efficiency\n",
        "        for doc in nlp.pipe(df[text_column].astype(str).fillna(''), batch_size=50):\n",
        "            # Join lemmas with space and add to list\n",
        "            lemma_text_list.append(\" \".join(token.lemma_ for token in doc))\n",
        "\n",
        "    # Create a copy of the DataFrame to avoid SettingWithCopyWarning\n",
        "    df = df.copy()\n",
        "    # Add results to new column\n",
        "    df[output_column] = lemma_text_list\n",
        "\n",
        "    return df\n",
        "\n",
        "# preprocessamento\n",
        "def preprocessamento(texto):\n",
        "    texto = combined_regex(texto)\n",
        "    texto = remove_stopwords(texto)\n",
        "    return texto"
      ],
      "metadata": {
        "id": "TudMkuQp0jS3"
      },
      "execution_count": 8,
      "outputs": []
    },
    {
      "cell_type": "code",
      "source": [
        "# preprocessamento de texto\n",
        "df['descricao_reclamacao_teste'] = df['descricao_reclamacao'].apply(preprocessamento)\n",
        "\n",
        "# lemmatizando texto\n",
        "df = lemmatize_text(df, text_column='descricao_reclamacao_teste', output_column='descricao_reclamacao_teste_lemma')"
      ],
      "metadata": {
        "id": "QNdZKkTm0kah"
      },
      "execution_count": 9,
      "outputs": []
    },
    {
      "cell_type": "code",
      "source": [
        "# 2. Codificar as categorias (variável resposta)\n",
        "le = LabelEncoder()\n",
        "df['categoria_encoded'] = le.fit_transform(df['categoria'])\n",
        "\n",
        "# 3. Dividir os dados\n",
        "X = df['descricao_reclamacao_teste_lemma']  # textos pré-processados\n",
        "y = df['categoria_encoded']  # categorias codificadas numericamente\n",
        "\n",
        "X_train, X_test, y_train, y_test = train_test_split(X,\n",
        "                                                    y,\n",
        "                                                    test_size=0.25,\n",
        "                                                    random_state=42,\n",
        "                                                    stratify=y\n",
        "                                                    )\n",
        "\n",
        "# 4. Criar pipeline de classificação\n",
        "model = Pipeline([\n",
        "    ('tfidf', TfidfVectorizer(max_features=5000)),  # vetorização TF-IDF\n",
        "    ('clf', RandomForestClassifier(n_estimators=100, random_state=42))  # classificador\n",
        "])\n",
        "\n",
        "# 5. Treinar o modelo\n",
        "model.fit(X_train, y_train)\n",
        "\n",
        "# 6. Avaliar o modelo\n",
        "y_pred = model.predict(X_test)\n",
        "print(classification_report(y_test, y_pred, target_names=le.classes_))"
      ],
      "metadata": {
        "colab": {
          "base_uri": "https://localhost:8080/"
        },
        "id": "yAgCrHbx8g4W",
        "outputId": "5d6ba795-181d-44b8-a370-19c4d0684351"
      },
      "execution_count": 10,
      "outputs": [
        {
          "output_type": "stream",
          "name": "stdout",
          "text": [
            "                                     precision    recall  f1-score   support\n",
            "\n",
            "Cartão de crédito / Cartão pré-pago       0.86      0.90      0.88      1252\n",
            "            Hipotecas / Empréstimos       0.89      0.89      0.89       962\n",
            "                             Outros       0.90      0.65      0.75       558\n",
            "       Roubo / Relatório de disputa       0.87      0.84      0.85      1206\n",
            "         Serviços de conta bancária       0.83      0.93      0.88      1290\n",
            "\n",
            "                           accuracy                           0.86      5268\n",
            "                          macro avg       0.87      0.84      0.85      5268\n",
            "                       weighted avg       0.86      0.86      0.86      5268\n",
            "\n"
          ]
        }
      ]
    },
    {
      "cell_type": "code",
      "source": [
        "# 7. Exemplo de previsão para novo texto\n",
        "novo_texto = \"Roubaram o meu celular e invadiram minha conta, levaram 1000 reais e gostaria de reaver o valor perdido visto que não a transação não foi autorizada\"\n",
        "novo_texto_processado = preprocessamento(novo_texto)\n",
        "categoria_predita = model.predict([novo_texto_processado])\n",
        "print(f\"Categoria prevista: {le.inverse_transform(categoria_predita)[0]}\")"
      ],
      "metadata": {
        "id": "GvzDpvSx-qC5",
        "colab": {
          "base_uri": "https://localhost:8080/"
        },
        "outputId": "82ce232e-0b54-438e-aa8c-7f20e5a6695e"
      },
      "execution_count": 11,
      "outputs": [
        {
          "output_type": "stream",
          "name": "stdout",
          "text": [
            "Categoria prevista: Serviços de conta bancária\n"
          ]
        }
      ]
    },
    {
      "cell_type": "markdown",
      "source": [
        "#### Aplicando GenAI"
      ],
      "metadata": {
        "id": "RSlU3xJND4h9"
      }
    },
    {
      "cell_type": "code",
      "source": [
        "train_df, test_df = train_test_split(df, test_size=0.25, random_state=42)"
      ],
      "metadata": {
        "id": "AUHG3iXgGAW5"
      },
      "execution_count": 17,
      "outputs": []
    },
    {
      "cell_type": "code",
      "source": [
        "# Tokenizando os textos\n",
        "# Esse processo é para facilitar o processamento com o modelo BERT a seguir, confertendo os textos em tensores (vetores muiti camadas)\n",
        "\n",
        "# Inicializando o tokenizador BERT para o português\n",
        "tokenizer = BertTokenizer.from_pretrained('neuralmind/bert-base-portuguese-cased')\n"
      ],
      "metadata": {
        "colab": {
          "base_uri": "https://localhost:8080/"
        },
        "id": "HB4Tj72wBBBU",
        "outputId": "667a76ed-0618-45bc-ffa5-03f08e57f5fb"
      },
      "execution_count": 18,
      "outputs": [
        {
          "output_type": "stream",
          "name": "stderr",
          "text": [
            "/usr/local/lib/python3.11/dist-packages/huggingface_hub/utils/_auth.py:94: UserWarning: \n",
            "The secret `HF_TOKEN` does not exist in your Colab secrets.\n",
            "To authenticate with the Hugging Face Hub, create a token in your settings tab (https://huggingface.co/settings/tokens), set it as secret in your Google Colab and restart your session.\n",
            "You will be able to reuse this secret in all of your notebooks.\n",
            "Please note that authentication is recommended but still optional to access public models or datasets.\n",
            "  warnings.warn(\n"
          ]
        }
      ]
    },
    {
      "cell_type": "code",
      "source": [
        "# Seperação dos dados de treino e teste\n",
        "## Dados de treino\n",
        "train_texts = train_df['descricao_reclamacao_teste_lemma'].tolist()\n",
        "train_labels = train_df['categoria'].tolist()\n",
        "\n",
        "## Dados de teste\n",
        "test_texts = test_df['descricao_reclamacao_teste_lemma'].tolist()\n",
        "test_labels = test_df['categoria'].tolist()"
      ],
      "metadata": {
        "id": "ERK-uzedBYCA"
      },
      "execution_count": 19,
      "outputs": []
    },
    {
      "cell_type": "code",
      "source": [
        "# Codificando os textos usando o tokenizador\n",
        "train_encodings = tokenizer(train_texts, truncation=True, padding=True, return_tensors='pt', max_length=128)\n",
        "test_encodings = tokenizer(test_texts, truncation=True, padding=True, return_tensors='pt', max_length=128)"
      ],
      "metadata": {
        "id": "GLmjHTrXKOhZ"
      },
      "execution_count": 20,
      "outputs": []
    },
    {
      "cell_type": "code",
      "source": [
        "# Codificando as categorias em números e convertendo as categorias para IDs numéricos\n",
        "le = preprocessing.LabelEncoder()\n",
        "train_labels = le.fit_transform(train_labels)\n",
        "test_labels = le.transform(test_labels)"
      ],
      "metadata": {
        "id": "gEnikiK9KXX9"
      },
      "execution_count": 21,
      "outputs": []
    },
    {
      "cell_type": "code",
      "source": [
        "# Convertendo os dados para tensores PyTorch\n",
        "train_dataset = TensorDataset(train_encodings['input_ids'], train_encodings['attention_mask'], torch.tensor(train_labels))\n",
        "test_dataset = TensorDataset(test_encodings['input_ids'], test_encodings['attention_mask'], torch.tensor(test_labels))"
      ],
      "metadata": {
        "id": "68gG65K6KwIM"
      },
      "execution_count": 22,
      "outputs": []
    },
    {
      "cell_type": "code",
      "source": [
        "# Inicializando o modelo BERT pré-treinado para classificação\n",
        "model = BertForSequenceClassification.from_pretrained('neuralmind/bert-base-portuguese-cased', num_labels=len(set(train_labels)))\n"
      ],
      "metadata": {
        "colab": {
          "base_uri": "https://localhost:8080/"
        },
        "id": "vWSXv7SfKzh8",
        "outputId": "91eb1f5c-df34-4a3f-e326-9dc5bf65867c"
      },
      "execution_count": 23,
      "outputs": [
        {
          "output_type": "stream",
          "name": "stderr",
          "text": [
            "Some weights of BertForSequenceClassification were not initialized from the model checkpoint at neuralmind/bert-base-portuguese-cased and are newly initialized: ['classifier.bias', 'classifier.weight']\n",
            "You should probably TRAIN this model on a down-stream task to be able to use it for predictions and inference.\n"
          ]
        }
      ]
    },
    {
      "cell_type": "code",
      "source": [
        "# Inicializando o otimizador\n",
        "optimizer = AdamW(model.parameters(), lr=5e-5)"
      ],
      "metadata": {
        "id": "3Zf9-K2eK6sW"
      },
      "execution_count": 24,
      "outputs": []
    },
    {
      "cell_type": "code",
      "source": [
        "# Inicializando o DataLoader para treinamento e teste\n",
        "train_loader = DataLoader(train_dataset, batch_size=4, shuffle=True)\n",
        "test_loader = DataLoader(test_dataset, batch_size=4, shuffle=False)"
      ],
      "metadata": {
        "id": "svDyC_QuLCgw"
      },
      "execution_count": 25,
      "outputs": []
    },
    {
      "cell_type": "code",
      "source": [
        "# Treinamento do modelo\n",
        "## identifica qual o processador da sessão (CPU ou GPU?), recomendo usar GPU\n",
        "device = torch.device(\"cuda\" if torch.cuda.is_available() else \"cpu\")\n",
        "model.to(device)\n",
        "model.train()\n",
        "\n",
        "num_epochs = 3\n",
        "\n",
        "for epoch in range(num_epochs):\n",
        "    for batch in tqdm(train_loader, desc=f\"Epoch {epoch + 1}\"):\n",
        "        input_ids, attention_mask, labels = batch\n",
        "        input_ids, attention_mask, labels = input_ids.to(device), attention_mask.to(device), labels.to(device)\n",
        "\n",
        "        optimizer.zero_grad()\n",
        "        outputs = model(input_ids, attention_mask=attention_mask, labels=labels)\n",
        "        loss = outputs.loss\n",
        "        loss.backward()\n",
        "        optimizer.step()\n",
        "\n",
        "# Os IDs correspondem a índices no vocabulário do modelo BERT\n",
        "#Internamente, o modelo BERT tem uma camada de embeddings (chamada Embedding Layer), que converte esses IDs em vetores densos de alta dimensão.\n"
      ],
      "metadata": {
        "colab": {
          "base_uri": "https://localhost:8080/"
        },
        "id": "kMdbCW55LFLN",
        "outputId": "c988e980-d515-460b-d5b6-093a4e02f605"
      },
      "execution_count": 26,
      "outputs": [
        {
          "output_type": "stream",
          "name": "stderr",
          "text": [
            "Epoch 1: 100%|██████████| 3951/3951 [07:28<00:00,  8.81it/s]\n",
            "Epoch 2: 100%|██████████| 3951/3951 [07:36<00:00,  8.65it/s]\n",
            "Epoch 3: 100%|██████████| 3951/3951 [07:34<00:00,  8.69it/s]\n"
          ]
        }
      ]
    },
    {
      "cell_type": "code",
      "source": [
        "# Avaliação do modelo\n",
        "model.eval()\n",
        "all_predictions = []\n",
        "all_labels = []\n",
        "\n",
        "with torch.no_grad():\n",
        "    for batch in tqdm(test_loader, desc=\"Evaluating\"):\n",
        "        input_ids, attention_mask, labels = batch\n",
        "        input_ids, attention_mask, labels = input_ids.to(device), attention_mask.to(device), labels.to(device)\n",
        "\n",
        "        outputs = model(input_ids, attention_mask=attention_mask)\n",
        "        predictions = torch.argmax(outputs.logits, dim=1)\n",
        "\n",
        "        all_predictions.extend(predictions.cpu().numpy())\n",
        "        all_labels.extend(labels.cpu().numpy())\n",
        "\n",
        "# Mapeando os IDs preditos de volta para as categorias originais usando inverse_transform\n",
        "#predicted_labels = all_predictions\n",
        "#true_labels = all_labels\n",
        "predicted_labels = le.inverse_transform(all_predictions)\n",
        "true_labels = le.inverse_transform(all_labels)\n",
        "#len(test_dataset)\n",
        "#len(predicted_labels)\n",
        "\n"
      ],
      "metadata": {
        "colab": {
          "base_uri": "https://localhost:8080/"
        },
        "id": "1AUu4TSPQu5n",
        "outputId": "fe5f3123-0d84-41a3-c7e1-544987bf3e80"
      },
      "execution_count": 27,
      "outputs": [
        {
          "output_type": "stream",
          "name": "stderr",
          "text": [
            "Evaluating: 100%|██████████| 1317/1317 [00:39<00:00, 33.32it/s]"
          ]
        },
        {
          "output_type": "stream",
          "name": "stdout",
          "text": [
            "                                     precision    recall  f1-score   support\n",
            "\n",
            "Cartão de crédito / Cartão pré-pago       0.85      0.87      0.86      1290\n",
            "            Hipotecas / Empréstimos       0.85      0.89      0.87       922\n",
            "                             Outros       0.76      0.79      0.77       549\n",
            "       Roubo / Relatório de disputa       0.87      0.78      0.82      1204\n",
            "         Serviços de conta bancária       0.86      0.88      0.87      1303\n",
            "\n",
            "                           accuracy                           0.85      5268\n",
            "                          macro avg       0.84      0.84      0.84      5268\n",
            "                       weighted avg       0.85      0.85      0.85      5268\n",
            "\n"
          ]
        },
        {
          "output_type": "stream",
          "name": "stderr",
          "text": [
            "\n"
          ]
        }
      ]
    },
    {
      "cell_type": "code",
      "source": [
        "# Exibindo as métricas de classificação\n",
        "print(classification_report(true_labels, predicted_labels))"
      ],
      "metadata": {
        "id": "MMJ2yzwhQqY-",
        "outputId": "c5e73224-5eaa-428d-9a67-1fb077eaa63e",
        "colab": {
          "base_uri": "https://localhost:8080/"
        }
      },
      "execution_count": 28,
      "outputs": [
        {
          "output_type": "stream",
          "name": "stdout",
          "text": [
            "                                     precision    recall  f1-score   support\n",
            "\n",
            "Cartão de crédito / Cartão pré-pago       0.85      0.87      0.86      1290\n",
            "            Hipotecas / Empréstimos       0.85      0.89      0.87       922\n",
            "                             Outros       0.76      0.79      0.77       549\n",
            "       Roubo / Relatório de disputa       0.87      0.78      0.82      1204\n",
            "         Serviços de conta bancária       0.86      0.88      0.87      1303\n",
            "\n",
            "                           accuracy                           0.85      5268\n",
            "                          macro avg       0.84      0.84      0.84      5268\n",
            "                       weighted avg       0.85      0.85      0.85      5268\n",
            "\n"
          ]
        }
      ]
    },
    {
      "cell_type": "markdown",
      "source": [
        "###**Validação do professor**"
      ],
      "metadata": {
        "id": "lMtk9rz172sN"
      }
    },
    {
      "cell_type": "markdown",
      "source": [
        "Consolidar apenas os scripts do seu **modelo campeão**, desde o carregamento do dataframe, separação das amostras, tratamentos utilizados (funções, limpezas, etc.), criação dos objetos de vetorização dos textos e modelo treinado e outras implementações utilizadas no processo de desenvolvimento do modelo.\n",
        "\n",
        "O modelo precisar atingir um score na métrica F1 Score superior a 75%.\n",
        "\n",
        "**Atenção:** **Implemente aqui apenas os scripts que fazem parte do modelo campeão.**\n"
      ],
      "metadata": {
        "id": "UNaVo7kP74SV"
      }
    },
    {
      "cell_type": "code",
      "source": [],
      "metadata": {
        "id": "DQKRSvOW8EeA"
      },
      "execution_count": 27,
      "outputs": []
    }
  ]
}